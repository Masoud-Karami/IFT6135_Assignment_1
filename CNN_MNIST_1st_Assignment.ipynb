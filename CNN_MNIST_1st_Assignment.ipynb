{
 "cells": [
  {
   "cell_type": "code",
   "execution_count": 44,
   "metadata": {},
   "outputs": [],
   "source": [
    "import numpy as np\n",
    "import tensorflow as tf\n",
    "import numpy as np\n",
    "import keras\n",
    "from keras.models import Sequential\n",
    "from keras.layers import Dense, Dropout, Lambda, Flatten, Embedding, BatchNormalization\n",
    "from keras.layers import Conv2D, MaxPooling2D, AvgPool2D\n",
    "from keras.optimizers import SGD, Adam\n",
    "from keras.preprocessing.image import ImageDataGenerator\n",
    "from keras.callbacks import EarlyStopping, ReduceLROnPlateau\n",
    "import matplotlib.pyplot as plt"
   ]
  },
  {
   "cell_type": "code",
   "execution_count": 60,
   "metadata": {},
   "outputs": [
    {
     "name": "stdout",
     "output_type": "stream",
     "text": [
      "(60000, 28, 28)\n",
      "(10000, 28, 28)\n"
     ]
    }
   ],
   "source": [
    "dim= 28\n",
    "nclasses = 10\n",
    "epochs = 10\n",
    "batch_size = 128\n",
    "((xtrain, ytrain),\n",
    " (xval, yval)) = tf.keras.datasets.mnist.load_data()\n",
    "xtrain = xtrain/np.float32(255)\n",
    "ytrain = ytrain.astype(np.int32)  # not required\n",
    "xval = xval/np.float32(255)\n",
    "yval = yval.astype(np.int32)  \n",
    "print(xtrain.shape)\n",
    "print(xval.shape)\n"
   ]
  },
  {
   "cell_type": "code",
   "execution_count": 61,
   "metadata": {},
   "outputs": [],
   "source": [
    "#def df_reshape(df):\n",
    "   # print(\"Previous shape, pixels are in 2D vector:\", df.shape)\n",
    "    #df = np.reshape(df,(-1, dim, dim, 1)) \n",
    "    # -1 means the dimension doesn't change\n",
    "   # print(\"After reshape, pixels are a 28x28x1 3D matrix:\", df.shape)\n",
    "    #return df"
   ]
  },
  {
   "cell_type": "code",
   "execution_count": 62,
   "metadata": {},
   "outputs": [],
   "source": [
    "#xtrain = df_reshape(xtrain)\n",
    "#xval = df_reshape(xval)\n"
   ]
  },
  {
   "cell_type": "code",
   "execution_count": 63,
   "metadata": {},
   "outputs": [],
   "source": [
    "xtrain = xtrain.reshape(xtrain.shape[0], dim, dim, 1)\n",
    "xval = xval.reshape(xval.shape[0], dim, dim, 1)\n",
    "input_shape = (dim, dim, 1)\n"
   ]
  },
  {
   "cell_type": "code",
   "execution_count": 64,
   "metadata": {},
   "outputs": [],
   "source": [
    "#convert class vectors to binary class matrices - this is for use in the categorical_crossentropy loss below\n",
    "y_train = keras.utils.to_categorical(ytrain, nclasses)\n",
    "y_val = keras.utils.to_categorical(yval, nclasses)\n",
    "#print (y_train[10000])"
   ]
  },
  {
   "cell_type": "code",
   "execution_count": 66,
   "metadata": {},
   "outputs": [
    {
     "name": "stdout",
     "output_type": "stream",
     "text": [
      "Train on 60000 samples, validate on 10000 samples\n",
      "Epoch 1/10\n",
      "60000/60000 [==============================] - 39s 647us/step - loss: 1.0732 - acc: 0.7249 - val_loss: 0.3184 - val_acc: 0.9052\n",
      "Epoch 2/10\n",
      "60000/60000 [==============================] - 38s 626us/step - loss: 0.2651 - acc: 0.9214 - val_loss: 0.2036 - val_acc: 0.9366\n",
      "Epoch 3/10\n",
      "60000/60000 [==============================] - 38s 631us/step - loss: 0.1852 - acc: 0.9444 - val_loss: 0.1470 - val_acc: 0.9555\n",
      "Epoch 4/10\n",
      "60000/60000 [==============================] - 38s 641us/step - loss: 0.1441 - acc: 0.9570 - val_loss: 0.1138 - val_acc: 0.9663\n",
      "Epoch 5/10\n",
      "60000/60000 [==============================] - 40s 661us/step - loss: 0.1196 - acc: 0.9647 - val_loss: 0.1043 - val_acc: 0.9686\n",
      "Epoch 6/10\n",
      "60000/60000 [==============================] - 40s 660us/step - loss: 0.1030 - acc: 0.9696 - val_loss: 0.0867 - val_acc: 0.9747\n",
      "Epoch 7/10\n",
      "60000/60000 [==============================] - 40s 668us/step - loss: 0.0912 - acc: 0.9725 - val_loss: 0.0803 - val_acc: 0.9762\n",
      "Epoch 8/10\n",
      "60000/60000 [==============================] - 39s 654us/step - loss: 0.0815 - acc: 0.9757 - val_loss: 0.0734 - val_acc: 0.9782\n",
      "Epoch 9/10\n",
      "60000/60000 [==============================] - 39s 648us/step - loss: 0.0752 - acc: 0.9775 - val_loss: 0.0716 - val_acc: 0.9769\n",
      "Epoch 10/10\n",
      "60000/60000 [==============================] - 39s 648us/step - loss: 0.0692 - acc: 0.9793 - val_loss: 0.0604 - val_acc: 0.9812\n",
      "Test loss: 0.060433723450824615\n",
      "Test accuracy: 0.9812\n"
     ]
    },
    {
     "data": {
      "image/png": "[encoded data removed]",
      "text/plain": [
       "<Figure size 432x288 with 1 Axes>"
      ]
     },
     "metadata": {
      "needs_background": "light"
     },
     "output_type": "display_data"
    }
   ],
   "source": [
    "model = Sequential()\n",
    "model.add(Conv2D(32, kernel_size=(5, 5), strides=(1, 1),\n",
    "                 activation='relu',\n",
    "                 input_shape=(dim, dim, 1)))\n",
    "model.add(MaxPooling2D(pool_size=(2, 2), strides=(2, 2)))\n",
    "model.add(Conv2D(64, (5, 5), activation='relu'))\n",
    "model.add(MaxPooling2D(pool_size=(2, 2)))\n",
    "model.add(Flatten())\n",
    "model.add(Dense(1000, activation='relu'))\n",
    "model.add(Dense(nclasses, activation='softmax'))\n",
    "\n",
    "model.compile(loss=keras.losses.categorical_crossentropy,\n",
    "              optimizer=keras.optimizers.SGD(),\n",
    "              metrics=['accuracy'])\n",
    "\n",
    "\n",
    "class AccuracyHistory(keras.callbacks.Callback):\n",
    "    def on_train_begin(self, logs={}):\n",
    "        self.acc = []\n",
    "\n",
    "    def on_epoch_end(self, batch, logs={}):\n",
    "        self.acc.append(logs.get('acc'))\n",
    "\n",
    "history = AccuracyHistory()\n",
    "\n",
    "model.fit(xtrain, y_train,\n",
    "          batch_size=batch_size,\n",
    "          epochs=epochs,\n",
    "          verbose=1,\n",
    "          validation_data=(xval, y_val),\n",
    "          callbacks=[history])\n",
    "score = model.evaluate(xval, y_val, verbose=0)\n",
    "print('Test loss:', score[0])\n",
    "print('Test accuracy:', score[1])\n",
    "plt.plot(range(1, 11), history.acc)\n",
    "plt.xlabel('Epochs')\n",
    "plt.ylabel('Accuracy')\n",
    "plt.show()"
   ]
  },
  {
   "cell_type": "code",
   "execution_count": null,
   "metadata": {},
   "outputs": [],
   "source": []
  }
 ],
 "metadata": {
  "kernelspec": {
   "display_name": "Python 3",
   "language": "python",
   "name": "python3"
  },
  "language_info": {
   "codemirror_mode": {
    "name": "ipython",
    "version": 3
   },
   "file_extension": ".py",
   "mimetype": "text/x-python",
   "name": "python",
   "nbconvert_exporter": "python",
   "pygments_lexer": "ipython3",
   "version": "3.6.7"
  }
 },
 "nbformat": 4,
 "nbformat_minor": 2
}
